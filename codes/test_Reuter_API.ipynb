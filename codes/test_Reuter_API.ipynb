{
 "cells": [
  {
   "cell_type": "code",
   "execution_count": 35,
   "metadata": {},
   "outputs": [],
   "source": [
    "import requests\n",
    "import json\n",
    "\n",
    "import pandas as pd\n",
    "import numpy as np"
   ]
  },
  {
   "cell_type": "code",
   "execution_count": 16,
   "metadata": {},
   "outputs": [],
   "source": [
    "api = NewsApiClient(api_key='22238ce39ef4436d8b4bf3796090c6c0')"
   ]
  },
  {
   "cell_type": "code",
   "execution_count": 41,
   "metadata": {},
   "outputs": [],
   "source": [
    "result = api.get_everything(q='apple', page_size=20)"
   ]
  },
  {
   "cell_type": "markdown",
   "metadata": {},
   "source": [
    "Define domian URL."
   ]
  },
  {
   "cell_type": "code",
   "execution_count": 8,
   "metadata": {},
   "outputs": [],
   "source": [
    "URL = {}\n",
    "URL['everything'] = 'https://newsapi.org/v2/everything'\n",
    "URL['top-headlines'] = 'https://newsapi.org/v2/top-headlines'\n",
    "URL['sources'] = 'https://newsapi.org/v2/sources'"
   ]
  },
  {
   "cell_type": "code",
   "execution_count": 9,
   "metadata": {},
   "outputs": [],
   "source": [
    "news_api_credential = json.loads(open('./reuter_api_credential.json').read())"
   ]
  },
  {
   "cell_type": "code",
   "execution_count": 28,
   "metadata": {},
   "outputs": [],
   "source": [
    "payload = {}\n",
    "payload['q'] = 'facebook'\n",
    "payload['apiKey'] = news_api_credential['apiKey']\n",
    "payload['pageSize'] = 100\n",
    "\n",
    "\n",
    "response = requests.get(URL['everything'], params=payload)"
   ]
  },
  {
   "cell_type": "code",
   "execution_count": 34,
   "metadata": {},
   "outputs": [
    {
     "data": {
      "text/plain": [
       "dict_keys(['source', 'author', 'title', 'description', 'url', 'urlToImage', 'publishedAt', 'content'])"
      ]
     },
     "execution_count": 34,
     "metadata": {},
     "output_type": "execute_result"
    }
   ],
   "source": [
    "response.json()['articles'][0].keys()"
   ]
  },
  {
   "cell_type": "code",
   "execution_count": 36,
   "metadata": {},
   "outputs": [
    {
     "name": "stdout",
     "output_type": "stream",
     "text": [
      "Facebook Wins, Facebook Losses, and More Security News This Week\n",
      "Instagram founders reportedly resign from Facebook\n",
      "Facebook sued for allegedly enabling human trafficking\n",
      "Facebook poisons the acquisition well\n",
      "How Facebook Hackers Compromised 30 Million Accounts\n",
      "Facebook can’t keep you safe\n",
      "How Facebook polarized us during the Kavanaugh hearings\n",
      "Facebook pushed for access to financial firms' user data\n",
      "How to Remove Your Phone Number From Facebook\n",
      "How to Delete Your Facebook Account: A Checklist\n",
      "300 million people use Facebook Stories every day\n",
      "Don't Fall For the Latest Facebook 'Hacking' Hoax\n",
      "Facebook could launch its video chat devices this month\n",
      "Facebook adds new tools to address harassment and bullying\n",
      "Facebook test lets users add songs to photos and videos\n",
      "Instagram's new CEO is Facebook veteran Adam Mosseri\n",
      "Instagram is testing the ability to share your precise location history with Facebook\n",
      "Instagram’s founders are reportedly resigning from Facebook\n",
      "Facebook and RED unveil their Manifold 3D VR camera\n",
      "Facebook is hiring a human rights policy director\n",
      "How to Tell If You Were Impacted By Facebook's Latest Hack\n",
      "Facebook expands bug bounty program to include third-party apps and websites\n",
      "Facebook increases account deletion grace period to 30 days\n",
      "Facebook Broadens Its Bug Bounty to Include Third-Party Apps\n",
      "Inside Facebook Dating, launching today first in Colombia\n",
      "Facebook Dating Is Rolling Out. Here’s How It Differs From Tinder\n",
      "Facebook disables accounts tied to Russian company that allegedly scraped user data\n",
      "Here’s how to find out if your Facebook was hacked in the breach\n",
      "Facebook’s recent hack exposed private information of 29 million users\n",
      "Are You Kidding Me, Facebook\n",
      "ACLU Says Facebook Ads Let Employers Favor Men Over Women\n",
      "How to Check If Your Facebook Account Got Hacked—And How Badly\n",
      "What we still don’t know about the Facebook breach\n",
      "Facebook reportedly avoids US government wiretap of Messenger voice calls\n",
      "Facebook removes misinformation, but only on a technicality\n",
      "Khosla GP Ben Ling is raising his own VC fund and it’s called Bling Capital\n",
      "Stop calling Facebook’s effort to fix itself an “arms race”\n",
      "Facebook plans voter drive, partners with Democratic/Republican Institutes\n",
      "Instagram founders have quit Facebook\n",
      "Facebook Is Giving Advertisers Access to Your Shadow Contact Information\n",
      "Facebook sends Sphero robots so classrooms can apply coding education\n",
      "Facebook expands its video Ad Breaks to 21 new countries\n",
      "The power of building grassroots communities and support groups\n",
      "Okay, Facebook, You Win. I'm Done.\n",
      "Facebook Makes It Easier to Report Bullies\n",
      "Facebook pilots new political campaign security tools — just 50 days before Election Day\n",
      "Facebook’s plan to let companies it buys live independently has failed\n",
      "How to livestream today’s Oculus Connect 5 keynote online and in VR\n",
      "Everything you need to know about Facebook’s data breach affecting 50M users\n",
      "At Oculus Connect keynote, original co-founders absent onstage\n",
      "Facebook: Hackers didn't access third-party sites with our sign-in\n",
      "Facebook policy head makes a surprising cameo at the Kavanaugh hearing\n",
      "What Instagram users need to know about Facebook’s security breach\n",
      "Facebook Launches the Last Thing Anyone Wants\n",
      "Facebook follows Twitch and YouTube with launch of Premieres, live polls and fan badges\n",
      "Facebook tests Snap Map-style redesign of Nearby Friends\n",
      "Facebook tries its hand at hardware with Portal\n",
      "Facebook Messenger internally tests voice commands for chat, calls\n",
      "Facebook finds ‘no evidence’ hackers accessed connected apps\n",
      "Workplace by Facebook launches Safety Check for business users\n",
      "Facebook prototypes Unsend 6 months after Zuckerberg retracted messages\n",
      "These Tech Companies Will Need More Women on Their Boards\n",
      "Facebook rolls out 3D photos that use AI to simulate depth\n",
      "Facebook adds A.I. to Marketplace for categorization, price suggestions and soon, visual search\n",
      "Facebook poaches leaders of Refdash interview prep to work on Jobs\n",
      "Facebook Groups can now launch up to 250-person group chats\n",
      "Facebook security issue affecting 50 million people would have let hackers login to your account\n",
      "Facebook and Sphero team up to offer coding robots to schools\n",
      "*God Friended Me* and How Social Media Handles Deities\n",
      "Facebook employees revolt after executive appears at Kavanaugh hearing\n",
      "The Big Thing Facebook Didn't Say About Oculus Quest\n",
      "50 Million Facebook Accounts Affected in Massive Security Breach\n",
      "Facebook Reportedly Defeats Government Demand to Wiretap Messenger Calls\n",
      "Facebook Sued by Former Content Moderator Over 'Debilitating PTSD'\n",
      "Facebook Is Expanding Photo Fact-Checking Across 17 Countries\n",
      "Facebook’s former head of Messenger calls WhatsApp co-founder a “new standard of low-class”\n",
      "Mark Zuckerberg Blamed for Instagram Founders' Departure\n",
      "Vietnam Convicts Second Person This Week for Anti-Government Facebook Posts\n",
      "Facebook Now Reportedly ‘Reviewing’ Its Distinction Between White Nationalism and White Supremacy\n",
      "Instagram Tests Feature That Shares Your Location History With Facebook\n",
      "New Lawsuit Claims Facebook Enabled Human Trafficking On Its Platform\n",
      "How to Find or Guess Anyone's Email Address\n",
      "Facebook Is Still Thirsty for Your Health Data\n",
      "Please Don’t Post Your Potentially Felonious Crimes to Facebook\n",
      "How to Do Everything But Delete Your Facebook Profile\n",
      "Ex-Facebook moderator sues Facebook over exposure to disturbing images\n",
      "Remember When Facebook Promised a Delete Button for Your Sent Messages?\n",
      "Facebook's Portal Is the Jetsons Videophone That We Thought Humanity Skipped\n",
      "Facebook Glitch Stopped Some Users With Lots of Posts From Deleting Their Accounts\n",
      "Set Up Your Financial Accounts Like You're Going to Be Hacked\n",
      "Facebook, Apple confirm they were targets of Supermicro malware attack\n",
      "Cardi B denies posting transphobic meme on Facebook\n",
      "Facebook unveils “SapFix” AI auto-debugger and AI chip partners like Intel\n",
      "Facebook named in suit alleging job ads on its platform unlawfully discriminated against women\n",
      "Facebook breach hit up to 5M EU users, and it faces up to $1.63B in fines\n",
      "Mobile social network Path, once a challenger to Facebook, is closing down\n",
      "Facebook Breach Affected 30 Million Users, Fewer Than First Believed\n",
      "'Why we faked our Facebook wedding in Kinshasa'\n",
      "California Today: California Today: Legalizing Street Food, a Fixture of L.A.’s Landscape\n",
      "Audit Facebook and overhaul competition law, say MEPs responding to breach scandals\n"
     ]
    }
   ],
   "source": [
    "for article in response.json()['articles']:\n",
    "    print(article['title'])"
   ]
  },
  {
   "cell_type": "code",
   "execution_count": null,
   "metadata": {},
   "outputs": [],
   "source": []
  }
 ],
 "metadata": {
  "kernelspec": {
   "display_name": "Python 3",
   "language": "python",
   "name": "python3"
  },
  "language_info": {
   "codemirror_mode": {
    "name": "ipython",
    "version": 3
   },
   "file_extension": ".py",
   "mimetype": "text/x-python",
   "name": "python",
   "nbconvert_exporter": "python",
   "pygments_lexer": "ipython3",
   "version": "3.6.2"
  }
 },
 "nbformat": 4,
 "nbformat_minor": 2
}
